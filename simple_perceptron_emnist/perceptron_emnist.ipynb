{
 "cells": [
  {
   "cell_type": "markdown",
   "id": "f49561d5",
   "metadata": {},
   "source": [
    "We will create a class-based perceptron that will serve us in distinguishing between my initials, P and D. We will extract the letters in a size of 28x28 from the EMNIST dataset available on Kaggle.\n",
    "\n",
    "https://www.kaggle.com/datasets/crawford/emnist"
   ]
  },
  {
   "cell_type": "code",
   "execution_count": 3,
   "id": "62cdc464-b08a-4a0a-a5c8-4f12ec20eec1",
   "metadata": {},
   "outputs": [],
   "source": [
    "import numpy as np\n",
    "import pandas as pd \n",
    "import matplotlib.pyplot as plt\n",
    "import seaborn as sns\n",
    "from sklearn.metrics import confusion_matrix\n",
    "\n",
    "class Perceptron:\n",
    "    def __init__(self, n):\n",
    "        self.w = np.random.uniform(-0.1, 0.1, n)\n",
    "        self.n = n\n",
    "\n",
    "    def predict(self, x):\n",
    "        activation = np.dot(x,self.w)\n",
    "        return 16 if activation >=0 else 4\n",
    "    \n",
    "    def train(self, xx, d, eta, tol):\n",
    "        error_sum = float('inf')\n",
    "        while error_sum > tol:\n",
    "            error_sum=0\n",
    "            for i in range(len(xx)):\n",
    "                x = np.array(xx[i])\n",
    "                y = self.predict(x)\n",
    "                if y == 4  and d[i] == 16:\n",
    "                    self.w = self.w + eta*x\n",
    "                elif y == 16 and d[i] == 4:\n",
    "                    self.w = self.w - eta*x\n",
    "\n",
    "                error = abs(y - d[i])\n",
    "                error_sum += error\n",
    "        return self.w\n",
    "    \n",
    "    def test(self, xx):\n",
    "        predictions=[]\n",
    "        for i in range(len(xx)):\n",
    "            x = np.array(xx[i])\n",
    "            y = self.predict(x)\n",
    "            predictions.append(y)\n",
    "            \n",
    "        return predictions"
   ]
  },
  {
   "cell_type": "code",
   "execution_count": 4,
   "id": "05b6f496-ea3d-4db8-8df5-2537e8d0c7d7",
   "metadata": {},
   "outputs": [],
   "source": [
    "testing_letter = np.array(pd.read_csv('emnist-letters-test.csv'))\n",
    "training_letter = np.array(pd.read_csv('emnist-letters-train.csv'))"
   ]
  },
  {
   "cell_type": "code",
   "execution_count": 5,
   "id": "836f4088-248e-48e3-a0cd-fdda5836e8b5",
   "metadata": {},
   "outputs": [
    {
     "data": {
      "text/plain": [
       "(14799, 785)"
      ]
     },
     "execution_count": 5,
     "metadata": {},
     "output_type": "execute_result"
    }
   ],
   "source": [
    "testing_letter.shape"
   ]
  },
  {
   "cell_type": "code",
   "execution_count": 6,
   "id": "428290f1-c233-4d56-a1e7-d7952656f13a",
   "metadata": {},
   "outputs": [],
   "source": [
    "X_testing_letter = testing_letter[:,1:]\n",
    "y_testing_letter = testing_letter[:,0]\n",
    "X_training_letter = training_letter[:,1:]\n",
    "y_training_letter = training_letter[:,0]"
   ]
  },
  {
   "cell_type": "code",
   "execution_count": 7,
   "id": "84fadd83-c7a5-4030-b1d5-7fe3469cee2f",
   "metadata": {},
   "outputs": [],
   "source": [
    "indices_train = np.where((y_training_letter == 16) | (y_training_letter == 4))[0]\n",
    "indices_test = np.where((y_testing_letter == 16) | (y_testing_letter == 4))[0]\n",
    "\n",
    "train_X_pd = X_training_letter[indices_train]\n",
    "train_y_pd = y_training_letter[indices_train]\n",
    "\n",
    "test_X_pd = X_testing_letter[indices_test]\n",
    "test_y_pd = y_testing_letter[indices_test]"
   ]
  },
  {
   "cell_type": "code",
   "execution_count": 8,
   "id": "6f063bc3-0f22-4e57-94b0-f91396aaa6ed",
   "metadata": {},
   "outputs": [
    {
     "data": {
      "text/plain": [
       "(1600,)"
      ]
     },
     "execution_count": 8,
     "metadata": {},
     "output_type": "execute_result"
    }
   ],
   "source": [
    "test_y_pd.shape"
   ]
  },
  {
   "cell_type": "code",
   "execution_count": 9,
   "id": "461293d2-1025-4e2a-be06-b616dc758546",
   "metadata": {},
   "outputs": [
    {
     "data": {
      "image/png": "[encoded data removed]",
      "text/plain": [
       "<Figure size 640x480 with 1 Axes>"
      ]
     },
     "metadata": {},
     "output_type": "display_data"
    }
   ],
   "source": [
    "plt.imshow(255-test_X_pd[1110].reshape(28,28), cmap='gray') #plt.imshow(image, cmap='gray')\n",
    "plt.axis('off')\n",
    "plt.show()"
   ]
  },
  {
   "cell_type": "code",
   "execution_count": 10,
   "id": "7db3385e-6ccd-450f-8c88-f72d58f270b0",
   "metadata": {},
   "outputs": [],
   "source": [
    "Perceptron1= Perceptron(n=784)"
   ]
  },
  {
   "cell_type": "code",
   "execution_count": 11,
   "id": "74fbf70b-4c4d-4e40-baed-cfb0f15b2521",
   "metadata": {},
   "outputs": [
    {
     "data": {
      "text/plain": [
       "array([-3.74918319e-02,  8.25797787e-02, -3.06657447e-02,  7.45670994e-02,\n",
       "       -7.11765807e-02,  5.29884143e-02,  5.98567412e+02,  1.20649633e+03,\n",
       "        5.88902583e+02,  3.60403273e-02,  6.97061708e-04,  8.96347263e-02,\n",
       "        6.96707554e-02,  7.79092988e-02,  5.73623667e-02, -2.83596787e-02,\n",
       "       -2.88489568e-02,  9.42004532e-02,  7.18884562e-02,  3.67908496e-02,\n",
       "        4.56079711e-02,  8.16391956e-03,  9.84456345e-02, -6.77764420e-02,\n",
       "        6.69838884e-02,  3.49138708e-02,  8.98456517e-02, -9.56707797e-02,\n",
       "        3.73203345e-02,  4.12328781e-01,  1.45583948e+01,  1.37045895e+02,\n",
       "        9.74051737e+02,  2.17493542e+03,  3.78843636e+03,  3.51098075e+03,\n",
       "        9.80466216e+02,  1.11503388e+03,  1.14147779e+03,  1.07076788e+02,\n",
       "       -3.21090772e+02, -8.90239402e+01, -2.30924782e+02, -5.06061567e+02,\n",
       "       -4.94099735e+02, -4.33061343e+02, -5.65914017e+02, -2.87505508e+02,\n",
       "       -2.76508518e+02, -7.95024757e+02, -8.03959893e+02,  7.60064702e+02,\n",
       "        9.71003881e+02,  6.16905044e+02,  2.14893378e+01, -3.93802492e-02,\n",
       "       -7.53518305e-03,  1.44138769e+01,  1.00424744e+02,  5.96097226e+02,\n",
       "        4.24396480e+03,  2.93245627e+03,  5.49844238e+03,  1.67856422e+03,\n",
       "       -1.05600923e+03,  4.43543880e+03,  5.68205743e+03,  2.26043074e+03,\n",
       "        2.70039593e+02, -6.05259882e+01, -1.53455968e+03, -8.93098846e+02,\n",
       "       -1.80302100e+03, -6.22708745e+03, -1.32745798e+04, -8.24605938e+03,\n",
       "       -3.93495319e+03, -8.77741229e+03, -4.29896221e+03,  8.09491388e+02,\n",
       "       -1.08291500e+03, -9.63936056e+02,  4.36062058e+02,  2.27091624e-02,\n",
       "       -3.30427961e-02,  1.44430584e+02,  2.69531641e+02, -1.71694382e+03,\n",
       "        4.52929453e+02, -3.92591841e+03, -3.03903206e+03, -8.91047511e+03,\n",
       "       -4.49153683e+03,  7.58963718e+02,  1.15303413e+03,  1.31648500e+03,\n",
       "        5.11604300e+03,  6.59659352e+03,  6.87706842e+03,  1.53184904e+04,\n",
       "        6.25151594e+03, -5.08046154e+03, -1.24189642e+04, -2.30560898e+02,\n",
       "        9.54691015e+03,  2.58957671e+03,  3.00452205e+03,  5.26607237e+03,\n",
       "       -7.59083580e+02, -5.71107571e+03,  3.56092380e+02,  5.32195553e-02,\n",
       "       -6.80976671e-03,  6.95512190e+01, -8.10053901e+02, -1.70741773e+03,\n",
       "       -3.65847866e+03, -4.11750727e+03,  4.24944022e+03,  5.56594326e+03,\n",
       "        5.21047027e+03,  5.37505547e+03, -3.23053379e+03, -5.16109645e+03,\n",
       "       -1.51449267e+03,  1.03440073e+03, -4.43551059e+03,  6.58858835e+03,\n",
       "        7.17194169e+03,  3.55040884e+03,  1.28555192e+03,  1.99598249e+03,\n",
       "       -9.46806765e+03, -1.09854891e+04, -3.94758542e+03,  1.08852516e+03,\n",
       "        1.83057809e+03, -2.04202716e+03,  1.05308557e+03,  8.81366981e-02,\n",
       "       -7.55880276e-02,  1.84743035e+03,  2.57988774e+02, -8.41068091e+02,\n",
       "       -3.33397736e+03,  1.03044916e+03,  5.04798661e+03,  2.22195405e+03,\n",
       "       -4.23651790e+03, -1.72902056e+03, -1.54845765e+03,  4.34290821e+03,\n",
       "        7.46349029e+03, -1.19798759e+03, -1.06959153e+04, -1.55451227e+03,\n",
       "       -3.49991151e+03,  7.96044958e+02, -4.87403248e+03, -3.12445508e+03,\n",
       "        2.63700058e+03, -2.87606965e+03, -4.52290460e+03,  4.35539124e+02,\n",
       "       -3.47152898e+03, -1.28047798e+03,  2.46059949e+03, -5.01622609e-02,\n",
       "       -6.68127657e-02,  3.22194072e+03,  3.57898955e+03,  4.09759637e+03,\n",
       "        9.94353209e+03, -1.75652553e+03, -2.65975516e+02,  4.86548389e+02,\n",
       "        5.60414031e+02,  2.51009632e+03, -2.78042517e+03,  3.53698886e+03,\n",
       "        9.82799661e+03,  2.56659012e+03, -2.18657356e+03, -2.06253774e+03,\n",
       "       -6.25973853e+02,  1.02715478e+04, -4.48344365e+03, -4.82798033e+03,\n",
       "        4.27904267e+03, -1.09247616e+03,  1.87100137e+03, -7.18557795e+02,\n",
       "       -4.81992969e+03, -1.07919090e+04,  1.66903757e+03,  4.50264263e-03,\n",
       "       -5.90830313e-02,  3.76154527e+03,  1.73000628e+03,  3.49555357e+02,\n",
       "        4.50890186e+03, -2.77497091e+03, -5.60059046e+03, -5.75489116e+02,\n",
       "        5.06809215e+03, -4.07590255e+03, -8.53472776e+02,  8.70092439e+03,\n",
       "        1.89593543e+03, -3.87297810e+03,  1.30409297e+03,  4.29952067e+02,\n",
       "       -3.35904794e+03,  1.18669047e+04,  1.33149083e+03, -1.42809581e+04,\n",
       "        2.46800701e+03, -1.14819017e+04,  1.37608391e+03,  2.77350184e+03,\n",
       "       -1.54643487e+03,  3.76904338e+03, -1.43405178e+03,  1.21533344e-03,\n",
       "        9.33377117e-02,  3.35299189e+03,  1.78748302e+03,  3.67043098e+03,\n",
       "       -1.56635021e+04,  2.38948017e+03, -5.14047728e+03, -5.11190967e+03,\n",
       "        2.64599621e+03,  3.66793567e+03,  9.30510053e+02,  4.21396673e+03,\n",
       "        3.40504655e+03,  8.37397119e+03,  4.61985511e+02, -1.03698584e+03,\n",
       "       -5.84413580e+01,  4.71598965e+03, -3.97108609e+03, -3.84195177e+03,\n",
       "        3.53191979e+03, -8.25048872e+03,  6.20960450e+02, -3.98242094e+03,\n",
       "       -4.83049238e+03,  7.52402961e+03, -5.44044216e+02,  1.42562855e-02,\n",
       "        6.67419428e-02,  2.48395051e+03,  6.95206519e+03,  2.11448519e+03,\n",
       "        9.79843962e+03,  6.98495498e+03,  8.52751784e+03, -2.09891441e+03,\n",
       "        3.39793081e+03,  7.10546752e+03,  4.48963640e+02, -2.86850496e+03,\n",
       "       -3.75992263e+03, -5.44453986e+03, -8.75477112e+02,  9.35341728e+03,\n",
       "       -2.85649470e+03,  9.57844036e+03, -3.92097563e+02, -3.41011818e+02,\n",
       "        1.68942598e+03, -1.20746006e+03, -9.94103464e+03, -5.67695989e+03,\n",
       "        1.91508032e+03, -5.41506004e+03,  2.69109192e+03, -4.54856814e-02,\n",
       "       -5.48828519e-02, -1.49054584e+02, -3.18997562e+03, -8.02709936e+03,\n",
       "        5.38854453e+03, -1.25210690e+04, -1.76514969e+02,  1.12304964e+03,\n",
       "       -4.48096904e+03,  8.32532981e+02,  2.05293524e+03, -3.51793176e+03,\n",
       "        5.47800503e+03,  7.03402847e+03, -1.47481851e+02,  1.26197524e+03,\n",
       "        4.19942834e+03, -6.97951760e+03, -3.77744822e+03, -4.59202838e+03,\n",
       "        1.71845422e+03, -5.18353237e+03, -2.82043071e+02, -4.41892065e+03,\n",
       "        8.25140000e+03, -4.43148434e+03,  3.00001580e+03,  3.73543695e-02,\n",
       "        3.84153134e-02,  1.65842210e+03,  8.67058420e+03, -1.32193621e+03,\n",
       "       -8.87998916e+02, -7.09845920e+03,  1.29694112e+04,  2.83851268e+03,\n",
       "       -3.87394700e+03,  6.91800198e+03,  6.34601169e+03, -5.43159757e+03,\n",
       "        2.26998324e+03, -4.65791740e+03, -9.38406698e+03,  1.23360258e+04,\n",
       "        3.31478017e+02,  6.04008371e+03,  2.51305905e+03, -6.15651203e+03,\n",
       "       -2.87890637e+03,  8.81906927e+03, -7.42007747e+03, -1.65959265e+04,\n",
       "        1.46602157e+03,  2.40106861e+03, -3.87341875e+03,  4.15435693e-02,\n",
       "       -8.71705037e-03,  4.59937006e+02,  3.12600233e+03,  9.45648680e+03,\n",
       "        1.66446066e+03, -2.29853760e+03,  3.45556975e+03, -1.36735147e+04,\n",
       "       -1.34207099e+03,  7.25399671e+03,  2.08499294e+03,  1.08098964e+03,\n",
       "       -2.16557983e+03,  1.16235869e+04,  5.87853032e+03,  5.76394664e+03,\n",
       "       -4.97100426e+03,  1.19320798e+04,  2.93791140e+03,  2.89190714e+03,\n",
       "       -8.86942004e+03, -4.50568811e+02, -5.65968265e+02, -6.58956649e+03,\n",
       "       -5.04035372e+02, -6.52946532e+03, -5.94987267e+02,  1.03627377e-02,\n",
       "        3.04779556e-02,  1.09647460e+03, -8.67353241e+03, -5.04744918e+03,\n",
       "        1.00950509e+04,  8.10024910e+02,  1.52140831e+03,  6.34190694e+01,\n",
       "        3.63974021e+02, -5.29532690e+01,  1.11469967e+04, -1.01549554e+04,\n",
       "        4.85852875e+03, -3.74756970e+03, -6.86911411e+02,  4.74098860e+03,\n",
       "        1.53997476e+03, -4.51201105e+03, -3.29991146e+03,  7.15491438e+03,\n",
       "       -8.31949411e+03, -5.26059741e+03,  4.00946926e+02, -6.71106349e+03,\n",
       "        4.27907949e+03, -4.72859929e+03, -2.54105613e+03,  7.19485087e-02,\n",
       "       -5.71375118e-02,  5.97009970e+03,  4.85707009e+03, -3.53599048e+03,\n",
       "        6.25490735e+03, -4.53348533e+03, -1.01490264e+04,  2.19898747e+03,\n",
       "        6.18954691e+02, -2.80405982e+03,  7.92518115e+02,  3.79390082e+03,\n",
       "        2.89201945e+03, -1.85349828e+03, -3.07553225e+03, -2.78544072e+03,\n",
       "        1.10846577e+03, -1.80579923e+02,  3.99091831e+03, -4.52307472e+03,\n",
       "        2.05294714e+03,  4.54426440e+02,  4.77490834e+03, -9.95859125e+03,\n",
       "       -3.53521924e+02, -3.97655585e+03, -6.44071696e+02, -1.84142966e-02,\n",
       "        9.79323889e-02,  5.44602083e+03,  3.27956537e+03,  2.81449501e+02,\n",
       "        8.80146963e+03,  6.00153985e+03,  7.80707017e+03, -2.31197772e+03,\n",
       "       -4.60743569e+03, -5.76955830e+03,  7.89757423e+03,  1.28404784e+04,\n",
       "       -2.52549909e+03,  3.98656345e+03, -2.18756993e+03, -1.34302724e+03,\n",
       "        2.39051016e+03, -1.66441503e+03,  5.32792062e+03, -1.60375766e+04,\n",
       "        4.32452561e+03, -1.11895929e+04,  3.93103969e+03, -1.54020470e+04,\n",
       "       -1.50514147e+04, -5.03800710e+03,  1.30856963e+03,  3.15220167e-02,\n",
       "        6.78671937e-02,  3.10354441e+03,  3.39541376e+02, -7.39981194e+02,\n",
       "       -4.06956965e+03, -7.55790254e+03,  6.53555320e+03, -2.84953614e+03,\n",
       "        9.37007475e+03, -1.73997452e+03, -6.43457621e+03, -8.49444701e+03,\n",
       "       -1.26495209e+03,  8.16596351e+03, -1.14374513e+04,  5.17086461e+02,\n",
       "        7.92294709e+03, -4.51453197e+03, -9.53445105e+03, -5.50257393e+03,\n",
       "        5.92697292e+03, -7.27057756e+03, -1.03953902e+03,  1.17500484e+04,\n",
       "       -4.03847517e+03, -3.05999445e+03,  3.92430452e+02, -3.97639112e-02,\n",
       "        1.48422141e-02,  3.24398315e+03,  2.90640693e+03,  4.32647413e+03,\n",
       "        6.87054617e+03,  3.92506614e+02,  4.70552828e+03, -5.82307235e+03,\n",
       "       -1.52258712e+03,  1.84208005e+03,  2.33998220e+03,  3.80607195e+03,\n",
       "        1.40543046e+03, -1.16604568e+03, -2.29419928e+02, -7.07445591e+03,\n",
       "       -5.59657641e+03, -3.77456301e+03, -1.78245370e+03, -3.63149422e+03,\n",
       "        3.25109045e+03, -4.52645207e+03, -1.49403160e+03,  7.42009272e+03,\n",
       "        5.98979796e+02, -4.11141218e+03, -2.33450798e+02,  6.11570642e-03,\n",
       "       -4.76193519e-02,  2.87692402e+03,  3.12059722e+03,  4.22199415e+03,\n",
       "       -6.55740324e+03,  3.26908519e+03,  4.88298842e+03,  5.32096935e+03,\n",
       "       -3.44197835e+03, -6.42448695e+03,  3.39797218e+03, -8.95745997e+03,\n",
       "       -1.90109740e+03,  1.26064909e+04,  4.06442667e+03,  3.38997678e+03,\n",
       "       -1.20606543e+03,  4.17395355e+03,  6.99799745e+03, -1.56030437e+04,\n",
       "       -6.55103846e+03,  1.53993285e+02, -3.71945775e+03,  5.83901431e+02,\n",
       "       -6.93145020e+03, -3.87740842e+03, -1.31358144e+03,  8.60360810e-03,\n",
       "       -6.88830184e-02,  4.66301238e+03,  1.04246887e+03,  6.62040147e+03,\n",
       "        1.22427434e+02,  3.29104873e+03, -2.91976254e+02,  4.87034283e+02,\n",
       "        2.81567542e+02, -1.98008161e+03,  6.70094541e+03,  2.79542991e+03,\n",
       "       -1.63009166e+03,  5.32899604e+03, -7.44605433e+03,  4.56306885e+03,\n",
       "       -8.25976616e+02, -1.15934245e+02,  3.24090178e+03, -2.58744996e+03,\n",
       "        1.01709813e+03,  4.47000556e+02, -8.22694334e+03, -5.80008809e+03,\n",
       "       -1.14029655e+04, -4.92206383e+03, -1.15092696e+03,  2.64716389e-02,\n",
       "        4.22345008e-02,  1.92641482e+03,  4.36393092e+03,  5.20850778e+03,\n",
       "        1.61008369e+03, -2.44693340e+03,  3.28854729e+03,  6.86107376e+03,\n",
       "       -1.13365158e+04, -5.08911801e+02, -1.76951874e+03, -1.16343922e+03,\n",
       "       -3.53356240e+03,  1.59804750e+03,  4.66002138e+03, -7.51946498e+03,\n",
       "        1.02046854e+03,  7.65942342e+03,  6.43147974e+03, -6.44005697e+03,\n",
       "        3.47005754e+03, -9.41699259e+03,  3.19604528e+03,  5.20703461e+03,\n",
       "        3.15490348e+03, -5.42042999e+03, -1.75250031e+03, -7.31364961e-02,\n",
       "        7.14795329e-02,  1.57741725e+03, -2.18052916e+03,  2.41742018e+03,\n",
       "       -2.39999921e+03, -4.75348682e+01, -3.54149077e+03,  6.18751190e+03,\n",
       "        1.39046964e+03, -4.68852534e+03,  7.38454299e+02,  7.61970737e+02,\n",
       "        8.99048472e+02,  1.76447361e+03,  6.76093474e+03, -1.95844753e+03,\n",
       "        9.76599798e+02, -1.35014322e+04,  1.67421742e+02,  4.75609450e+03,\n",
       "        3.59195295e+03, -1.28484142e+04,  7.44519640e+02, -7.02248222e+00,\n",
       "       -3.42974251e+02, -3.31409518e+03, -3.63487999e+02,  7.37968747e-02,\n",
       "        4.09005404e-02,  2.94698867e+03,  2.90190265e+03,  4.87993559e+03,\n",
       "       -2.82245610e+03,  2.77497759e+03,  2.84207665e+03, -1.00384719e+04,\n",
       "       -4.38408175e+03,  2.03501784e+03, -5.73143250e+03,  2.13543735e+03,\n",
       "        2.04054131e+03,  2.04643170e+03,  4.37247453e+03, -6.02578308e+02,\n",
       "        4.67197764e+03, -3.80298178e+03,  4.27747068e+03,  7.99992112e+03,\n",
       "        5.08697809e+03, -3.48497776e+03, -6.58140824e+03, -4.85354181e+03,\n",
       "       -4.11395808e+03, -1.80350056e+03, -1.66541385e+02, -7.88675922e-02,\n",
       "        8.52604000e-02, -1.90943488e+02,  1.01692729e+03,  1.02905995e+03,\n",
       "        3.41997156e+03, -5.95556205e+03,  4.74447383e+03,  9.28694615e+03,\n",
       "       -3.49463690e+02,  2.99002720e+03,  1.13705208e+03, -8.74492089e+03,\n",
       "        3.86904399e+03, -1.86301388e+03,  5.81090203e+03, -2.30400937e+03,\n",
       "       -4.98659193e+03,  6.11291149e+03,  3.56457532e+03,  5.31496581e+03,\n",
       "       -7.23002573e+03, -4.71394164e+03, -3.69997620e+03, -2.83801930e+03,\n",
       "       -1.79295758e+03, -1.20998224e+03, -1.70991235e+02,  3.30823581e-02,\n",
       "       -8.49012016e-02,  6.37918982e+02,  8.88483688e+02, -1.02192771e+03,\n",
       "        3.10756440e+03,  7.06455184e+02,  3.70557322e+02, -1.17900326e+04,\n",
       "       -9.85445105e+02,  9.13958892e+03,  2.60348315e+03, -2.95340025e+03,\n",
       "        3.07299795e+03, -7.98894847e+03, -1.19350628e+03, -1.51001345e+03,\n",
       "       -1.02898056e+03,  3.58201763e+03, -5.75803888e+03, -3.24498985e+03,\n",
       "       -4.70854563e+03, -2.70955925e+03, -3.53847129e+03, -2.76096775e+03,\n",
       "       -1.52355334e+03, -7.81038951e+02, -9.00780214e+01,  8.16995158e-02,\n",
       "        2.37965506e-02, -2.23444121e+02, -3.01849446e+03, -3.42748494e+03,\n",
       "        1.16590309e+03,  6.54558038e+03,  2.79805183e+03,  1.48051494e+03,\n",
       "       -9.75439210e+02, -2.68993404e+03,  6.65153606e+01, -3.03397619e+03,\n",
       "       -3.05942217e+03, -2.25508628e+03, -5.48959792e+03, -5.73790516e+03,\n",
       "       -2.74247283e+03, -3.26358151e+03, -1.60590138e+03, -1.01948074e+03,\n",
       "       -2.14399048e+03, -1.68896764e+03, -1.99495628e+03, -1.73251681e+03,\n",
       "       -6.97012582e+02, -2.35587221e+01, -2.08049961e-02,  1.79744080e-02,\n",
       "       -3.90245918e-02, -5.03066696e+00, -1.99405268e+02, -7.00003351e+02,\n",
       "        7.73487066e+02,  8.06463156e+02, -5.89515411e+02, -1.97589159e+02,\n",
       "        2.47974426e+02,  1.55546047e+03,  2.58092602e+03,  1.21406022e+03,\n",
       "        7.97929231e+02, -2.46072930e+02, -5.07965575e+02, -2.87934119e+02,\n",
       "       -1.86994891e+02, -1.41001570e+02, -9.54657074e+00, -3.80732537e+01,\n",
       "       -5.90507680e+02, -2.54572852e+02, -1.90545702e+02, -1.75009554e+02,\n",
       "       -3.70206039e+01,  4.30281840e-02,  2.29367436e-02,  6.83331626e-02,\n",
       "        5.75373335e-02, -9.28921368e-02,  2.37106245e-02,  6.56324147e-02,\n",
       "        4.08532793e-02,  2.57202365e-02, -1.43308560e-02, -9.03991768e-02,\n",
       "        4.31561110e-02,  5.29776641e-03,  5.63315109e-02, -4.61315029e-02,\n",
       "        6.65147543e-03,  7.67669378e-02,  4.43831239e-03, -7.33335622e-02,\n",
       "        9.58564215e-02,  3.75697032e-02, -4.29626672e-03,  2.13596938e-02,\n",
       "        2.13919119e-04, -9.23498928e-02, -5.02487320e-02, -7.80966096e-02,\n",
       "        4.33885086e-02,  5.62858671e-02, -5.07351334e-02, -3.40022932e-02])"
      ]
     },
     "execution_count": 11,
     "metadata": {},
     "output_type": "execute_result"
    }
   ],
   "source": [
    "Perceptron1.train(train_X_pd,train_y_pd,.5,100)"
   ]
  },
  {
   "cell_type": "code",
   "execution_count": 12,
   "id": "5ea1f50e-0590-48b7-906c-cb4b7bd0e0de",
   "metadata": {},
   "outputs": [],
   "source": [
    "predictions = Perceptron1.test(test_X_pd)"
   ]
  },
  {
   "cell_type": "code",
   "execution_count": 13,
   "id": "591c5acf-e150-4c5c-aca1-6c180e98588b",
   "metadata": {},
   "outputs": [
    {
     "data": {
      "text/plain": [
       "<Axes: >"
      ]
     },
     "execution_count": 13,
     "metadata": {},
     "output_type": "execute_result"
    },
    {
     "data": {
      "image/png": "[encoded data removed]",
      "text/plain": [
       "<Figure size 640x480 with 1 Axes>"
      ]
     },
     "metadata": {},
     "output_type": "display_data"
    }
   ],
   "source": [
    "cm = confusion_matrix(test_y_pd,predictions)\n",
    "\n",
    "sns.heatmap(cm, annot=True, fmt=\"d\", cmap=\"inferno\", xticklabels=['Actual D', 'Actual P'], \n",
    "            yticklabels=['Predict D', 'Predict P'],lw=1,cbar=False,linecolor='red')"
   ]
  }
 ],
 "metadata": {
  "kernelspec": {
   "display_name": "Python 3 (ipykernel)",
   "language": "python",
   "name": "python3"
  },
  "language_info": {
   "codemirror_mode": {
    "name": "ipython",
    "version": 3
   },
   "file_extension": ".py",
   "mimetype": "text/x-python",
   "name": "python",
   "nbconvert_exporter": "python",
   "pygments_lexer": "ipython3",
   "version": "3.10.13"
  }
 },
 "nbformat": 4,
 "nbformat_minor": 5
}
